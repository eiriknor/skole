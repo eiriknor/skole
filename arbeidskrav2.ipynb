{
 "cells": [
  {
   "cell_type": "markdown",
   "id": "e1a45dbf-f3bd-4ab1-95b5-664311583e49",
   "metadata": {},
   "source": [
    "***Arbeidskrav 2***"
   ]
  },
  {
   "cell_type": "markdown",
   "id": "484dafc3-2619-4cfd-9aae-69a396879775",
   "metadata": {},
   "source": [
    "**Oppg 1)** **Du skal her lage et program som skal starter med\r\n",
    "alder = int(input('Hvilket år er du født? ') )\r\n",
    "Programmet skal så regne ut hvor gammel personen blir nå i løpet av år 2024 og skrive\r\n",
    "svaret til skjerm med passende tek**st."
   ]
  },
  {
   "cell_type": "code",
   "execution_count": 1,
   "id": "5b202871-5e0a-4502-8be2-a9cdb266e0e2",
   "metadata": {},
   "outputs": [
    {
     "name": "stdin",
     "output_type": "stream",
     "text": [
      "Hvilket år er du født?? 1990\n"
     ]
    },
    {
     "name": "stdout",
     "output_type": "stream",
     "text": [
      "du er født i 1990 og ble 34 år gammel i 2024\n"
     ]
    }
   ],
   "source": [
    "alder = int(input('Hvilket år er du født??'))\n",
    "alder_i_2024 = 2024 - alder\n",
    "print(f\"du er født i {alder} og ble {alder_i_2024} år gammel i 2024\")"
   ]
  },
  {
   "cell_type": "markdown",
   "id": "53b517b7-21c5-4496-b346-d4c33315ea69",
   "metadata": {},
   "source": [
    "**Oppg 2)** **Det skal arrangeres en klassefest og man antar at hver elev spiser 1/4 pizza. Lag et\n",
    "program som tar inn antall elever fra konsollen ved\n",
    "antall_elever = int(input('Skriv inn antall elever:' ))\n",
    "Programmet skal så regne ut hvor mange pizzaer som skal handles inn til festen og skrive\n",
    "svaret til skjerm. Merk, man kan ikke kjøpe 4 og en kvart pizza på butikken (man må da kjøpe\n",
    "5)**"
   ]
  },
  {
   "cell_type": "code",
   "execution_count": 30,
   "id": "7821e602-d179-4a7b-a977-12ebaa479519",
   "metadata": {},
   "outputs": [
    {
     "name": "stdin",
     "output_type": "stream",
     "text": [
      "Skriv inn antall elver 55\n"
     ]
    },
    {
     "name": "stdout",
     "output_type": "stream",
     "text": [
      "For at klassefesten skal bli en suksess, må du kjøpte totalt 14 antall pizza)\n"
     ]
    }
   ],
   "source": [
    "import math\n",
    "\n",
    "pizza_pr_elev = 0.25\n",
    "antall_elever = int(input('Skriv inn antall elver'))\n",
    "totalt_antall_pizzaer = math.ceil(pizza_pr_elev * antall_elever)\n",
    "\n",
    "print(f\"For at klassefesten skal bli en suksess, må du kjøpte totalt {totalt_antall_pizzaer} antall pizza)\")\n",
    "      "
   ]
  },
  {
   "cell_type": "markdown",
   "id": "e7d8f4f2-0f26-4cf1-9b21-5617cc4526af",
   "metadata": {},
   "source": [
    "**Oppg 3)**\n",
    "**Lag et program med en funksjon som regner om fra grader til radianer. \n",
    "Skriv svaret til skjerm med passende tekst og verdi.**\n"
   ]
  },
  {
   "cell_type": "code",
   "execution_count": 31,
   "id": "9be27f6b-8979-4c06-a0b1-66d19c46bbeb",
   "metadata": {},
   "outputs": [
    {
     "name": "stdin",
     "output_type": "stream",
     "text": [
      "Skriv inn gradtallet: 90\n"
     ]
    },
    {
     "name": "stdout",
     "output_type": "stream",
     "text": [
      "gradtallet 90.00 tilsvarer 1.57 radianer\n"
     ]
    }
   ],
   "source": [
    "import numpy as np\n",
    "\n",
    "v_grad = float(input('Skriv inn gradtallet:' ))\n",
    "v_rad = v_grad*np.pi/180\n",
    "\n",
    "print(f\"gradtallet {v_grad:.2f} tilsvarer {v_rad:.2f} radianer\")"
   ]
  },
  {
   "cell_type": "markdown",
   "id": "c5e8385f-93ec-464e-bf23-7ace00a1abff",
   "metadata": {},
   "source": [
    "**Oppgave 4**\n",
    "\n",
    "**a) Opprett en dictionary som gitt under. Dictionaryen har ulike land som nøkkel (Keys)\n",
    "og gir info om hovedstaden i landet og antall innbyggere i mill. i hovedstaden.** \n",
    "\n",
    "**b) Lag et program som ber brukeren skrive inn et land (eksempelvis England).\r\n",
    "Programmet skal på bakgrunn av dette skrive ut følgende setning:\r\n",
    "London er hovedstaden i England og det er 8.982 mill. innbyggere i Lond**on"
   ]
  },
  {
   "cell_type": "code",
   "execution_count": 215,
   "id": "19b18b0b-7afc-4b01-96b6-62dedfdbb1e3",
   "metadata": {},
   "outputs": [
    {
     "name": "stdin",
     "output_type": "stream",
     "text": [
      "Skriv inn et land:  England\n"
     ]
    },
    {
     "name": "stdout",
     "output_type": "stream",
     "text": [
      "London er hovedstaden i England og har totalt 8.982 mill. innbyggere.\n"
     ]
    }
   ],
   "source": [
    "def info_om_hovedstader():\n",
    "    data = {\n",
    "    \"Norge\":[\"Oslo\", 0.634],\n",
    "    \"England\":[\"London\", 8.982],\n",
    "    \"Frankrike\": [\"Paris\", 2.161],\n",
    "    \"Italia\": [\"Roma\", 2.873]\n",
    "    }\n",
    "\n",
    "    land = input(\"Skriv inn et land: \")\n",
    "\n",
    "    if land in data:\n",
    "        info_land = data[land]\n",
    "        print(f\"{info_land[0]} er hovedstaden i {land} og har totalt {info_land[1]} mill. innbyggere.\")\n",
    "    else:\n",
    "        print(f\"Du må skrive et gyldig land, da {land} ikke ligger i listen.\")\n",
    "\n",
    "# Kjør funksjonen\n",
    "info_om_hovedstader()"
   ]
  },
  {
   "cell_type": "markdown",
   "id": "29ed335a-b0f5-4208-929f-1c2a070fe448",
   "metadata": {},
   "source": [
    "**C) Lag et program som ber brukeren skrive inn info om et nytt land (altså et land som\n",
    "ikke allerede finnes i dictionaryen data). Videre skal brukeren oppgi hovedstad og\n",
    "antall innbyggere for det «nye» landet. Programmet skal så utvide/oppdatere\n",
    "dictionaryen med den nye informasjonen. Dictionaryen data skrives så til skjerm.**"
   ]
  },
  {
   "cell_type": "code",
   "execution_count": 29,
   "id": "9cd2a60a-37b5-47d6-82d6-8396f7294fc9",
   "metadata": {},
   "outputs": [
    {
     "name": "stdin",
     "output_type": "stream",
     "text": [
      "Skriv inn nytt land Frankrike\n"
     ]
    },
    {
     "name": "stdout",
     "output_type": "stream",
     "text": [
      "Landet Frankrike finnes allerede, prøv et annet land\n",
      "\n",
      "Oppdatert dictionary:\n",
      "Norge: Hovedstad = Oslo, Innbyggere = 0.634 mill.\n",
      "England: Hovedstad = London, Innbyggere = 8.982 mill.\n",
      "Frankrike: Hovedstad = Paris, Innbyggere = 2.161 mill.\n",
      "Italia: Hovedstad = Roma, Innbyggere = 2.873 mill.\n"
     ]
    }
   ],
   "source": [
    "def oppdater_data(): \n",
    "    data = {\n",
    "    \"Norge\":[\"Oslo\", 0.634],\n",
    "    \"England\":[\"London\", 8.982],\n",
    "    \"Frankrike\": [\"Paris\", 2.161],\n",
    "    \"Italia\": [\"Roma\", 2.873]\n",
    "    }\n",
    "\n",
    "    nytt_land = input(\"Skriv inn nytt land\")\n",
    "\n",
    "    if nytt_land in data:\n",
    "        print(f\"Landet {nytt_land} finnes allerede, prøv et annet land\")\n",
    "    else: \n",
    "        hovedstad = input(f\"Skriv inn hovedstaden i {nytt_land}\")\n",
    "        try:\n",
    "            antall_innbyggere = float(input(f\"Skriv inn antall innbyggere i {nytt_land}: \"))\n",
    "        except ValueError:\n",
    "            print(\"Du må oppgi et gyldig tall for antall innbyggere.\")\n",
    "            return \n",
    "        \n",
    "        # Legger til det ny info\n",
    "        data[nytt_land] = [hovedstad, antall_innbyggere]\n",
    "\n",
    "        # Skriv ut den oppdaterte info\n",
    "    print(\"\\nOppdatert dictionary:\")\n",
    "    for land, info in data.items():\n",
    "        print(f\"{land}: Hovedstad = {info[0]}, Innbyggere = {info[1]} mill.\")\n",
    "\n",
    "# Kjør funksjonen\n",
    "oppdater_data()"
   ]
  },
  {
   "cell_type": "markdown",
   "id": "02adcb2b-f8af-46df-bfcd-626abd181d66",
   "metadata": {},
   "source": [
    "**Oppg 5) Lag et program med en funksjon som tar a og b som inn-argumenter og som så\n",
    "regner ut arealet og «ytre» omkrets til en figur satt sammen av en rettvinklet trekant og en\n",
    "halvsirkel, se figuren under. Med «ytre» omkrets menes samlet lengde av de sorte strekene.\n",
    "Funksjonen skal returnere arealet og «ytre» omkrets, som så skrives til skjerm med passende\n",
    "tekst**"
   ]
  },
  {
   "cell_type": "code",
   "execution_count": 13,
   "id": "092d23bc-0797-4e3e-baa4-4f246978ef56",
   "metadata": {},
   "outputs": [
    {
     "name": "stdin",
     "output_type": "stream",
     "text": [
      "Skriv inn lengden av a (katet):  2\n",
      "Skriv inn lengden av b (katet):  3\n"
     ]
    },
    {
     "name": "stdout",
     "output_type": "stream",
     "text": [
      "Arealet av figuren er: 4.57\n",
      "Ytre omkrets av figuren er: 9.75\n"
     ]
    }
   ],
   "source": [
    "import numpy as np\n",
    "import math\n",
    "\n",
    "def beregn_areal_og_omkrets(a,b):\n",
    "\n",
    "    c = math.sqrt(a**2 + b**2) \n",
    "    areal_trekant = (a*b) / 2\n",
    "    omkrets_trekant = b + c\n",
    "    radius = a / 2\n",
    "\n",
    "    areal_halvsirkel  = (math.pi * radius**2) / 2\n",
    "    omkrets_halvsirkel = (math.pi * radius)\n",
    "\n",
    "    totalt_areal = areal_trekant + areal_halvsirkel\n",
    "    ytre_omkrets = omkrets_trekant + omkrets_halvsirkel\n",
    "\n",
    "    return totalt_areal, ytre_omkrets\n",
    "    \n",
    "# Test funksjonen\n",
    "a = float(input(\"Skriv inn lengden av a (katet): \"))\n",
    "b = float(input(\"Skriv inn lengden av b (katet): \"))\n",
    "\n",
    "\n",
    "areal, omkrets = beregn_areal_og_omkrets(a, b)\n",
    "print(f\"Arealet av figuren er: {areal:.2f}\")\n",
    "print(f\"Ytre omkrets av figuren er: {omkrets:.2f}\")"
   ]
  },
  {
   "cell_type": "markdown",
   "id": "9912ff6c-5f61-4a7f-8ccb-a01ea43ce9af",
   "metadata": {},
   "source": [
    "**Oppg 6) Skriv en kode som plotter funksjonen 𝑓(𝑥) = −𝑥2 − 5, for x på intervallet [-10,10]**"
   ]
  },
  {
   "cell_type": "code",
   "execution_count": 23,
   "id": "a61bb96a-7fa1-457e-b45b-82aed09e46f7",
   "metadata": {},
   "outputs": [
    {
     "data": {
      "image/png": "[encoded data removed]",
      "text/plain": [
       "<Figure size 640x480 with 1 Axes>"
      ]
     },
     "metadata": {},
     "output_type": "display_data"
    }
   ],
   "source": [
    "import numpy as np\n",
    "import matplotlib.pyplot as plt\n",
    "\n",
    "x = np.linspace(-10, 10, 200)\n",
    "\n",
    "def f(x):\n",
    "    return -x**2 -5\n",
    "\n",
    "#Beregn y ved å bruke f(x)\n",
    "\n",
    "y = f(x)\n",
    "\n",
    "#%plotting \n",
    "\n",
    "plt.close(\"all\")\n",
    "plt.figure(1)\n",
    "plt.title('Plotting av funksjonen f(x) = -x^2 - 5')\n",
    "plt.xlabel('x')\n",
    "plt.ylabel('f(x)')\n",
    "plt.plot(x,y, label = 'f(x) = -x^2 -5')\n",
    "plt.legend()\n",
    "plt.grid(True)"
   ]
  },
  {
   "cell_type": "code",
   "execution_count": null,
   "id": "9a35947e-ca70-4942-9ff6-f4b816daa0c2",
   "metadata": {},
   "outputs": [],
   "source": []
  }
 ],
 "metadata": {
  "kernelspec": {
   "display_name": "Python 3 (ipykernel)",
   "language": "python",
   "name": "python3"
  },
  "language_info": {
   "codemirror_mode": {
    "name": "ipython",
    "version": 3
   },
   "file_extension": ".py",
   "mimetype": "text/x-python",
   "name": "python",
   "nbconvert_exporter": "python",
   "pygments_lexer": "ipython3",
   "version": "3.12.4"
  }
 },
 "nbformat": 4,
 "nbformat_minor": 5
}

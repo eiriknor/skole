{
 "cells": [
  {
   "cell_type": "markdown",
   "id": "37e1f48b-1ba7-42c9-bd83-638b3fbc583f",
   "metadata": {},
   "source": [
    "#Arbeidskrav "
   ]
  },
  {
   "cell_type": "code",
   "execution_count": 13,
   "id": "dde60304-4976-48fb-9e4e-e473ef1c4c90",
   "metadata": {},
   "outputs": [
    {
     "name": "stdout",
     "output_type": "stream",
     "text": [
      "Årlige kostnader for elbil er kr: 13058.7 og kr: 23558.7 for fossilbil. Differansen er kr: 10500.0\n"
     ]
    }
   ],
   "source": [
    "def funksjon (antall_km, elbil): #lager en funksjon med to parametere for variable kostnader\n",
    "    forsikring = 5000 if elbil else 7500\n",
    "    kostnad_drivstoff_pr_km = 0.2 * 2 if elbil else 1\n",
    "    bompenger = 0.1 if elbil else 0.3\n",
    "\n",
    "    tfa = 8.38\n",
    "    tfa_pr_år = 8.38 * 365 #beregner tfa pr år\n",
    "\n",
    "    kostnader_drivstoff = kostnad_drivstoff_pr_km * antall_km #beregner kostnader til drivstoff\n",
    "    kostnader_bompenger = bompenger * antall_km #beregner kostnader til bompenger\n",
    "    kostnader_bil = tfa_pr_år + forsikring + kostnader_drivstoff + kostnader_bompenger #beregner alle kostnader\n",
    "    return kostnader_bil \n",
    "\n",
    "antall_km = 10000 \n",
    "#antall_km = int(input(\"Legg til antall km pr år: \"))\n",
    "totale_kostnader_elbil = funksjon(antall_km, elbil = True) #definerer variabel med 10000 og elbil\n",
    "antall_kostnader_fossilbil = funksjon(antall_km, elbil = False) #definerer varibel med 10000 km og ikke eilbil\n",
    "\n",
    "print(f\"Årlige kostnader for elbil er kr: {totale_kostnader_elbil} og kr: {antall_kostnader_fossilbil} for fossilbil. Differansen er kr: {abs(totale_kostnader_elbil - antall_kostnader_fossilbil)}\")"
   ]
  },
  {
   "cell_type": "code",
   "execution_count": null,
   "id": "4e20855e-581e-4b85-9e3a-e92c0f92462e",
   "metadata": {},
   "outputs": [],
   "source": []
  },
  {
   "cell_type": "code",
   "execution_count": null,
   "id": "13dceda5-3801-4145-8476-18c511a8a44c",
   "metadata": {},
   "outputs": [],
   "source": []
  }
 ],
 "metadata": {
  "kernelspec": {
   "display_name": "Python 3 (ipykernel)",
   "language": "python",
   "name": "python3"
  },
  "language_info": {
   "codemirror_mode": {
    "name": "ipython",
    "version": 3
   },
   "file_extension": ".py",
   "mimetype": "text/x-python",
   "name": "python",
   "nbconvert_exporter": "python",
   "pygments_lexer": "ipython3",
   "version": "3.12.4"
  }
 },
 "nbformat": 4,
 "nbformat_minor": 5
}
